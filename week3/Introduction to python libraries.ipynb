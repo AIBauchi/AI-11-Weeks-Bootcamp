{
    "cells": [
     {
      "cell_type": "markdown",
      "metadata": {},
      "source": [
       "# Introduction to Jupyter Notebook, NumPy, Pandas, and Seaborn"
      ]
     },
     {
      "cell_type": "markdown",
      "metadata": {},
      "source": [
       "## Introduction to Jupyter Notebook\n",
       "\n",
       "The Jupyter Notebook is an incredibly powerful tool for interactively developing and presenting data science projects.\n",
       "\n",
       "\n",
       "In other words: it's a single document where you can run code, display the output, and also add explanations, formulas, charts, and make your work more transparent, understandable, repeatable, and shareable.\n",
       "\n",
       "\n",
       " If your goal is to work with data, using a Notebook will speed up your workflow and make it easier to communicate and share your results.\n",
       "Jupyter Notebooks are completely free. You can download the software on its own, or as part of the Anaconda data science toolkit.\n",
       "Although it is possible to use many different programming languages in Jupyter Notebooks, we will focus on Python, as it is the most common use case. "
      ]
     },
     {
      "cell_type": "markdown",
      "metadata": {},
      "source": [
       "#### Creating a New Notebook\n",
       "\n",
       "1. Click on \"New\" and select \"Python 3\" (or your preferred kernel).\n",
       "2. A new notebook will open with an empty code cell.\n",
       "\n",
       "#### Running Code Cells\n",
       "\n",
       "You can run a code cell by selecting it and clicking the \"Run\" button or by pressing `Shift + Enter`. Try running the code cell below:"
      ]
     },
     {
      "cell_type": "code",
      "execution_count": null,
      "metadata": {},
      "outputs": [],
      "source": [
       "print(\"Hello, Jupyter Notebook!\")"
      ]
     },
     {
      "cell_type": "markdown",
      "metadata": {},
      "source": [
       "### 1.3. Keyboard Shortcuts\n",
       "\n",
       "Learn some common keyboard shortcuts for efficiency in Jupyter Notebook.\n",
       "\n",
       "- Shift + Enter: Run the current cell and move to the next one.\n",
       "\n",
       "- Ctrl + Enter: Run the current cell and stay on it.\n",
       "\n",
       "- A: Insert a new cell above the current cell.\n",
       "\n",
       "- B: Insert a new cell below the current cell\n",
       "\n"
      ]
     },
     {
      "cell_type": "markdown",
      "metadata": {},
      "source": [
       "## Section 2: Introduction to NumPy\n",
       "\n",
       "\n",
       "NumPy is a Python library.\n",
       "\n",
       "NumPy is used for working with arrays.\n",
       "\n",
       "NumPy is short for \"Numerical Python\".\n",
       "\n",
       "### Why Use NumPy?\n",
       "\n",
       "In Python we have lists that serve the purpose of arrays, but they are slow to process.\n",
       "\n",
       "NumPy aims to provide an array object that is up to 50x faster than traditional Python lists.\n",
       "\n",
       "The array object in NumPy is called ndarray, it provides a lot of supporting functions that make working with ndarray very easy.\n",
       "\n",
       "Arrays are very frequently used in data science, where speed and resources are very important.\n",
       "\n",
       "**Data Science**: is a branch of computer science where we study how to store, use and analyze data for deriving information from it."
      ]
     },
     {
      "cell_type": "markdown",
      "metadata": {},
      "source": [
       "## Which Language is NumPy written in?"
      ]
     },
     {
      "cell_type": "markdown",
      "metadata": {},
      "source": [
       "### Installation of NumPy\n",
       "\n",
       "If you have Python and PIP already installed on a system, then installation of NumPy is very easy.\n",
       "\n",
       "Install it using this command:\n",
       "\n",
       "**C:\\Users\\Your Name>pip install numpy**\n",
       "\n",
       "If this command fails, then use a python distribution that already has NumPy installed like, Anaconda, Spyder etc.\n",
       "\n"
      ]
     },
     {
      "cell_type": "markdown",
      "metadata": {},
      "source": [
       "## NumPy as np\n",
       "\n",
       "NumPy is usually imported under the np alias.\n",
       "\n",
       "**alias**: In Python alias are an alternate name for referring to the same thing."
      ]
     },
     {
      "cell_type": "code",
      "execution_count": 1,
      "metadata": {},
      "outputs": [],
      "source": [
       "import numpy as np"
      ]
     },
     {
      "cell_type": "markdown",
      "metadata": {},
      "source": [
       "## NumPy Creating Arrays\n",
       "\n",
       "### Create a NumPy ndarray Object\n",
       "NumPy is used to work with arrays. The array object in NumPy is called ndarray.\n",
       "\n",
       "We can create a NumPy ndarray object by using the array() function.\n"
      ]
     },
     {
      "cell_type": "code",
      "execution_count": 3,
      "metadata": {},
      "outputs": [
       {
        "name": "stdout",
        "output_type": "stream",
        "text": [
         "[1 2 3 4 5]\n",
         "<class 'numpy.ndarray'>\n"
        ]
       }
      ],
      "source": [
       "arr = np.array([1, 2, 3, 4, 5])\n",
       "\n",
       "print(arr)\n",
       "\n",
       "# type(): This built-in Python function tells us the type of the object passed to it. Like in above code it shows that arr is numpy.ndarray type.\n",
       "\n",
       "print(type(arr))"
      ]
     },
     {
      "cell_type": "markdown",
      "metadata": {},
      "source": [
       "To create an ndarray, we can pass a list, tuple or any array-like object into the array() method, and it will be converted into an ndarray:"
      ]
     },
     {
      "cell_type": "code",
      "execution_count": null,
      "metadata": {},
      "outputs": [],
      "source": [
       "arr = np.array((1, 2, 3, 4, 5))\n",
       "\n",
       "print(arr)"
      ]
     },
     {
      "cell_type": "markdown",
      "metadata": {},
      "source": [
       "### Dimensions in Arrays\n",
       "A dimension in arrays is one level of array depth (nested arrays).\n",
       "\n",
       "**nested array**: are arrays that have arrays as their elements.\n"
      ]
     },
     {
      "cell_type": "markdown",
      "metadata": {},
      "source": [
       "### 0-D Arrays\n",
       "0-D arrays, or Scalars, are the elements in an array. Each value in an array is a 0-D array."
      ]
     },
     {
      "cell_type": "code",
      "execution_count": null,
      "metadata": {},
      "outputs": [],
      "source": [
       "arr = np.array(42)\n",
       "\n",
       "print(arr)"
      ]
     },
     {
      "cell_type": "markdown",
      "metadata": {},
      "source": [
       "### 1-D Arrays\n",
       "An array that has 0-D arrays as its elements is called uni-dimensional or 1-D array.\n",
       "\n",
       "These are the most common and basic arrays."
      ]
     },
     {
      "cell_type": "code",
      "execution_count": null,
      "metadata": {},
      "outputs": [],
      "source": [
       "arr = np.array([1, 2, 3, 4, 5])\n",
       "\n",
       "print(arr)"
      ]
     },
     {
      "cell_type": "markdown",
      "metadata": {},
      "source": [
       "### 2-D Arrays\n",
       "An array that has 1-D arrays as its elements is called a 2-D array.\n",
       "\n",
       "These are often used to represent matrix or 2nd order tensors.\n",
       "\n",
       "NumPy has a whole sub module dedicated towards matrix operations called numpy.mat"
      ]
     },
     {
      "cell_type": "code",
      "execution_count": null,
      "metadata": {},
      "outputs": [],
      "source": [
       "arr = np.array([[1, 2, 3], [4, 5, 6]])\n",
       "\n",
       "print(arr)"
      ]
     },
     {
      "cell_type": "markdown",
      "metadata": {},
      "source": [
       "### 3-D arrays\n",
       "An array that has 2-D arrays (matrices) as its elements is called 3-D array.\n",
       "\n",
       "These are often used to represent a 3rd order tensor."
      ]
     },
     {
      "cell_type": "code",
      "execution_count": null,
      "metadata": {},
      "outputs": [],
      "source": [
       "arr = np.array([[[1, 2, 3], [4, 5, 6]], [[1, 2, 3], [4, 5, 6]]])\n",
       "\n",
       "print(arr)"
      ]
     },
     {
      "cell_type": "markdown",
      "metadata": {},
      "source": [
       "### 0-D Arrays\n",
       "0-D arrays, or Scalars, are the elements in an array. Each value in an array is a 0-D array."
      ]
     },
     {
      "cell_type": "markdown",
      "metadata": {},
      "source": [
       "### Check Number of Dimensions?\n",
       "\n",
       "NumPy Arrays provides the ndim attribute that returns an integer that tells us how many dimensions the array have."
      ]
     },
     {
      "cell_type": "code",
      "execution_count": 4,
      "metadata": {},
      "outputs": [
       {
        "name": "stdout",
        "output_type": "stream",
        "text": [
         "0\n"
        ]
       }
      ],
      "source": [
       "a = np.array(42)\n",
       "b = np.array([1, 2, 3, 4, 5])\n",
       "c = np.array([[1, 2, 3], [4, 5, 6]])\n",
       "d = np.array([[[1, 2, 3], [4, 5, 6]], [[1, 2, 3], [4, 5, 6]]])\n",
       "\n",
       "print(a.ndim)\n",
       "\n",
       "# check for b,c,d"
      ]
     },
     {
      "cell_type": "markdown",
      "metadata": {},
      "source": [
       "### Higher Dimensional Arrays\n",
       "An array can have any number of dimensions.\n",
       "\n",
       "When the array is created, you can define the number of dimensions by using the ndmin argument.\n",
       "\n",
       "### Knowledge check\n",
       "\n",
       "Create an array with 5 dimensions and verify that it has 5 dimensions:"
      ]
     },
     {
      "cell_type": "code",
      "execution_count": 5,
      "metadata": {},
      "outputs": [
       {
        "name": "stdout",
        "output_type": "stream",
        "text": [
         "[[[[[1 2 3 4]]]]]\n",
         "number of dimensions : 5\n"
        ]
       }
      ],
      "source": [
       "arr = np.array([1, 2, 3, 4], ndmin=5)\n",
       "\n",
       "print(arr)\n",
       "print('number of dimensions :', arr.ndim)"
      ]
     },
     {
      "cell_type": "markdown",
      "metadata": {},
      "source": [
       "## NumPy Array Indexing"
      ]
     },
     {
      "cell_type": "markdown",
      "metadata": {},
      "source": [
       "### Access Array Elements\n",
       "\n",
       "Array indexing is the same as accessing an array element.\n",
       "\n",
       "You can access an array element by referring to its index number.\n",
       "\n",
       "The indexes in NumPy arrays start with 0, meaning that the first element has index 0, and the second has index 1 etc."
      ]
     },
     {
      "cell_type": "code",
      "execution_count": 6,
      "metadata": {},
      "outputs": [
       {
        "name": "stdout",
        "output_type": "stream",
        "text": [
         "1\n",
         "2\n",
         "7\n"
        ]
       }
      ],
      "source": [
       "arr = np.array([1, 2, 3, 4])\n",
       "\n",
       "print(arr[0])\n",
       "print(arr[1])\n",
       "\n",
       "# Get third and fourth elements from the following array and add them.\n",
       "\n",
       "print(arr[2] + arr[3])"
      ]
     },
     {
      "cell_type": "markdown",
      "metadata": {},
      "source": [
       "### Access 2-D Arrays\n",
       "\n",
       "To access elements from 2-D arrays we can use comma separated integers representing the dimension and the index of the element.\n",
       "\n",
       "Think of 2-D arrays like a table with rows and columns, where the dimension represents the row and the index represents the column."
      ]
     },
     {
      "cell_type": "code",
      "execution_count": 7,
      "metadata": {},
      "outputs": [
       {
        "name": "stdout",
        "output_type": "stream",
        "text": [
         "2nd element on 1st row:  2\n"
        ]
       }
      ],
      "source": [
       "# Access the element on the first row, second column:\n",
       "arr = np.array([[1,2,3,4,5], [6,7,8,9,10]])\n",
       "print('2nd element on 1st row: ', arr[0, 1])\n"
      ]
     },
     {
      "cell_type": "code",
      "execution_count": null,
      "metadata": {},
      "outputs": [],
      "source": [
       "arr = np.array([[1,2,3,4,5], [6,7,8,9,10]])\n",
       "\n",
       "print('5th element on 2nd row: ')"
      ]
     },
     {
      "cell_type": "markdown",
      "metadata": {},
      "source": [
       "### Access 3-D Arrays\n",
       "To access elements from 3-D arrays we can use comma separated integers representing the dimensions and the index of the element."
      ]
     },
     {
      "cell_type": "code",
      "execution_count": null,
      "metadata": {},
      "outputs": [],
      "source": [
       "arr = np.array([[[1, 2, 3], [4, 5, 6]], [[7, 8, 9], [10, 11, 12]]])\n",
       "\n",
       "# print 6"
      ]
     },
     {
      "cell_type": "markdown",
      "metadata": {},
      "source": [
       "### Negative Indexing\n",
       "Use negative indexing to access an array from the end."
      ]
     },
     {
      "cell_type": "code",
      "execution_count": 8,
      "metadata": {},
      "outputs": [
       {
        "name": "stdout",
        "output_type": "stream",
        "text": [
         "Last element from 2nd dim:  10\n"
        ]
       }
      ],
      "source": [
       "# Print the last element from the 2nd dim:\n",
       "arr = np.array([[1,2,3,4,5], [6,7,8,9,10]])\n",
       "\n",
       "print('Last element from 2nd dim: ', arr[1, -1])\n",
       "\n",
       "# Exercise "
      ]
     },
     {
      "cell_type": "markdown",
      "metadata": {},
      "source": [
       "## NumPy Array Slicing\n"
      ]
     },
     {
      "cell_type": "markdown",
      "metadata": {},
      "source": [
       "### Slicing arrays\n",
       "\n",
       "Slicing in python means taking elements from one given index to another given index.\n",
       "\n",
       "We pass slice instead of index like this: [start:end].\n",
       "\n",
       "We can also define the step, like this: [start:end:step].\n",
       "\n",
       "If we don't pass start its considered 0\n",
       "\n",
       "If we don't pass end its considered length of array in that dimension\n",
       "\n",
       "If we don't pass step its considered 1"
      ]
     },
     {
      "cell_type": "code",
      "execution_count": 12,
      "metadata": {},
      "outputs": [
       {
        "name": "stdout",
        "output_type": "stream",
        "text": [
         "[1 2 3 4 5 6]\n"
        ]
       }
      ],
      "source": [
       "# Slice elements from index 1 to index 5 from the following array:\n",
       "arr = np.array([1, 2, 3, 4, 5, 6, 7])\n",
       "\n",
       "print(arr[:6])\n"
      ]
     },
     {
      "cell_type": "code",
      "execution_count": null,
      "metadata": {},
      "outputs": [],
      "source": [
       "# Slice elements from index 4 to the end of the array:\n",
       "arr = np.array([1, 2, 3, 4, 5, 6, 7])\n",
       "\n",
       "print(arr[4:])"
      ]
     },
     {
      "cell_type": "code",
      "execution_count": 13,
      "metadata": {},
      "outputs": [
       {
        "name": "stdout",
        "output_type": "stream",
        "text": [
         "[1 2 3 4]\n"
        ]
       }
      ],
      "source": [
       "# Slice elements from the beginning to index 4 (not included):\n",
       "arr = np.array([1, 2, 3, 4, 5, 6, 7])\n",
       "\n",
       "print(arr[:4])\n"
      ]
     },
     {
      "cell_type": "markdown",
      "metadata": {},
      "source": [
       "### Negative Slicing\n",
       "Use the minus operator to refer to an index from the end:"
      ]
     },
     {
      "cell_type": "code",
      "execution_count": 14,
      "metadata": {},
      "outputs": [
       {
        "name": "stdout",
        "output_type": "stream",
        "text": [
         "[5 6]\n"
        ]
       }
      ],
      "source": [
       "# Slice from the index 3 from the end to index 1 from the end:\n",
       "arr = np.array([1, 2, 3, 4, 5, 6, 7])\n",
       "\n",
       "print(arr[-3:-1])"
      ]
     },
     {
      "cell_type": "markdown",
      "metadata": {},
      "source": [
       "### STEP\n",
       "Use the step value to determine the step of the slicing:"
      ]
     },
     {
      "cell_type": "code",
      "execution_count": 15,
      "metadata": {},
      "outputs": [
       {
        "name": "stdout",
        "output_type": "stream",
        "text": [
         "[2 4]\n"
        ]
       }
      ],
      "source": [
       "# Return every other element from index 1 to index 5:\n",
       "arr = np.array([1, 2, 3, 4, 5, 6, 7])\n",
       "\n",
       "print(arr[1:5:2])"
      ]
     },
     {
      "cell_type": "code",
      "execution_count": 16,
      "metadata": {},
      "outputs": [
       {
        "name": "stdout",
        "output_type": "stream",
        "text": [
         "[1 3 5 7]\n"
        ]
       }
      ],
      "source": [
       "# Return every other element from the entire array:\n",
       "\n",
       "arr = np.array([1, 2, 3, 4, 5, 6, 7])\n",
       "\n",
       "print(arr[::2])\n"
      ]
     },
     {
      "cell_type": "markdown",
      "metadata": {},
      "source": [
       "### Slicing 2-D Arrays"
      ]
     },
     {
      "cell_type": "code",
      "execution_count": null,
      "metadata": {},
      "outputs": [],
      "source": [
       "# From the second element, slice elements from index 1 to index 4 (not included):\n",
       "arr = np.array([[1, 2, 3, 4, 5], [6, 7, 8, 9, 10]])\n",
       "\n",
       "print(arr[1, 1:4])\n"
      ]
     },
     {
      "cell_type": "code",
      "execution_count": null,
      "metadata": {},
      "outputs": [],
      "source": [
       "# From both elements, return index 2:\n",
       "arr = np.array([[1, 2, 3, 4, 5], [6, 7, 8, 9, 10]])\n",
       "\n",
       "print(arr[0:2, 2])"
      ]
     },
     {
      "cell_type": "code",
      "execution_count": null,
      "metadata": {},
      "outputs": [],
      "source": [
       "# From both elements, slice index 1 to index 4 (not included), this will return a 2-D array:\n",
       "arr = np.array([[1, 2, 3, 4, 5], [6, 7, 8, 9, 10]])\n",
       "\n",
       "print(arr[0:2, 1:4])"
      ]
     },
     {
      "cell_type": "markdown",
      "metadata": {},
      "source": [
       "## NumPy Data Types"
      ]
     },
     {
      "cell_type": "markdown",
      "metadata": {},
      "source": [
       "NumPy has some extra data types, and refer to data types with one character, like i for integers, u for unsigned integers etc.\n",
       "\n",
       "Below is a list of all data types in NumPy and the characters used to represent them.\n",
       "\n",
       "- i - integer\n",
       "- b - boolean\n",
       "- u - unsigned integer\n",
       "- f - float\n",
       "- c - complex float\n",
       "- m - timedelta\n",
       "- M - datetime\n",
       "- O - object\n",
       "- S - string\n",
       "- U - unicode string\n",
       "- V - fixed chunk of memory for other type ( void )\n",
       "\n",
       "### Checking the Data Type of an Array\n",
       "The NumPy array object has a property called dtype that returns the data type of the array:"
      ]
     },
     {
      "cell_type": "code",
      "execution_count": 17,
      "metadata": {},
      "outputs": [
       {
        "name": "stdout",
        "output_type": "stream",
        "text": [
         "int32\n"
        ]
       }
      ],
      "source": [
       "# Get the data type of an array object:\n",
       "arr = np.array([1, 2, 3, 4])\n",
       "\n",
       "print(arr.dtype)\n"
      ]
     },
     {
      "cell_type": "code",
      "execution_count": 18,
      "metadata": {},
      "outputs": [
       {
        "name": "stdout",
        "output_type": "stream",
        "text": [
         "<U6\n"
        ]
       }
      ],
      "source": [
       "# Get the data type of an array containing strings:\n",
       "arr = np.array(['apple', 'banana', 'cherry'])\n",
       "\n",
       "print(arr.dtype)\n"
      ]
     },
     {
      "cell_type": "markdown",
      "metadata": {},
      "source": [
       "### Creating Arrays With a Defined Data Type\n",
       "We use the array() function to create arrays, this function can take an optional argument: dtype that allows us to define the expected data type of the array elements:"
      ]
     },
     {
      "cell_type": "code",
      "execution_count": 19,
      "metadata": {},
      "outputs": [
       {
        "name": "stdout",
        "output_type": "stream",
        "text": [
         "[b'1' b'2' b'3' b'4']\n",
         "|S1\n"
        ]
       }
      ],
      "source": [
       "# Create an array with data type string:\n",
       "arr = np.array([1, 2, 3, 4], dtype='S')\n",
       "\n",
       "print(arr)\n",
       "print(arr.dtype)\n",
       "\n",
       "# do the same with string to integer"
      ]
     },
     {
      "cell_type": "markdown",
      "metadata": {},
      "source": [
       "## NumPy Array Shape"
      ]
     },
     {
      "cell_type": "markdown",
      "metadata": {},
      "source": [
       "### Shape of an Array\n",
       "The shape of an array is the number of elements in each dimension.\n",
       "NumPy arrays have an attribute called shape that returns a tuple with each index having the number of corresponding elements.\n",
       "\n",
       "\n"
      ]
     },
     {
      "cell_type": "code",
      "execution_count": 22,
      "metadata": {},
      "outputs": [
       {
        "name": "stdout",
        "output_type": "stream",
        "text": [
         "(2, 4)\n"
        ]
       }
      ],
      "source": [
       "# Print the shape of a 2-D array:\n",
       "arr = np.array(\n",
       "    [[1, 2, 3, 4], \n",
       "     [5, 6, 7, 8]]\n",
       ")\n",
       "\n",
       "print(arr.shape)"
      ]
     },
     {
      "cell_type": "markdown",
      "metadata": {},
      "source": [
       "## NumPy Array Reshaping\n"
      ]
     },
     {
      "cell_type": "markdown",
      "metadata": {},
      "source": [
       "### Reshaping arrays\n",
       "Reshaping means changing the shape of an array.\n",
       "\n",
       "The shape of an array is the number of elements in each dimension.\n",
       "\n",
       "By reshaping we can add or remove dimensions or change number of elements in each dimension."
      ]
     },
     {
      "cell_type": "code",
      "execution_count": 25,
      "metadata": {},
      "outputs": [
       {
        "name": "stdout",
        "output_type": "stream",
        "text": [
         "[[ 1  2  3]\n",
         " [ 4  5  6]\n",
         " [ 7  8  9]\n",
         " [10 11 12]]\n"
        ]
       }
      ],
      "source": [
       "''' Convert the following 1-D array with 12 elements into a 2-D array.\n",
       "\n",
       "The outermost dimension will have 4 arrays, each with 3 elements: '''\n",
       "arr = np.array([1, 2, 3, 4, 5, 6, 7, 8, 9, 10, 11, 12])\n",
       "\n",
       "newarr = arr.reshape(4, 3)\n",
       "\n",
       "print(newarr)"
      ]
     },
     {
      "cell_type": "code",
      "execution_count": 26,
      "metadata": {},
      "outputs": [
       {
        "name": "stdout",
        "output_type": "stream",
        "text": [
         "[[[ 1  2]\n",
         "  [ 3  4]\n",
         "  [ 5  6]]\n",
         "\n",
         " [[ 7  8]\n",
         "  [ 9 10]\n",
         "  [11 12]]]\n"
        ]
       }
      ],
      "source": [
       "''' Convert the following 1-D array with 12 elements into a 3-D array.\n",
       "\n",
       "The outermost dimension will have 2 arrays that contains 3 arrays, each with 2 elements:'''\n",
       "arr = np.array([1, 2, 3, 4, 5, 6, 7, 8, 9, 10, 11, 12])\n",
       "\n",
       "newarr = arr.reshape(2, 3, 2)\n",
       "\n",
       "print(newarr)"
      ]
     },
     {
      "cell_type": "markdown",
      "metadata": {},
      "source": [
       "### Can We Reshape Into any Shape?"
      ]
     },
     {
      "cell_type": "code",
      "execution_count": null,
      "metadata": {},
      "outputs": [],
      "source": [
       "# 1D array with 8 elements to a 2D array with 3 elements in each dimension\n",
       "arr = np.array([1, 2, 3, 4, 5, 6, 7, 8])\n",
       "\n",
       "newarr = arr.reshape(3, 3)\n",
       "\n",
       "print(newarr)"
      ]
     },
     {
      "cell_type": "markdown",
      "metadata": {},
      "source": [
       "### Answer\n",
       "Yes, as long as the elements required for reshaping are equal in both shapes.\n",
       "\n",
       "We can reshape an 8 elements 1D array into 4 elements in 2 rows 2D array but we cannot reshape it into a 3 elements 3 rows 2D array as that would require 3x3 = 9 elements."
      ]
     },
     {
      "cell_type": "markdown",
      "metadata": {},
      "source": [
       "### Unknown Dimension\n",
       "You are allowed to have one \"unknown\" dimension.\n",
       "\n",
       "Meaning that you do not have to specify an exact number for one of the dimensions in the reshape method.\n",
       "\n",
       "Pass -1 as the value, and NumPy will calculate this number for you."
      ]
     },
     {
      "cell_type": "code",
      "execution_count": null,
      "metadata": {},
      "outputs": [],
      "source": [
       "# Convert 1D array with 8 elements to 3D array with 2x2 elements:\n",
       "arr = np.array([1, 2, 3, 4, 5, 6, 7, 8])\n",
       "\n",
       "newarr = arr.reshape(2, 2, -1)\n",
       "\n",
       "print(newarr)"
      ]
     },
     {
      "cell_type": "markdown",
      "metadata": {},
      "source": [
       "### Flattening the arrays\n",
       "Flattening array means converting a multidimensional array into a 1D array.\n",
       "\n",
       "We can use reshape(-1) to do this."
      ]
     },
     {
      "cell_type": "code",
      "execution_count": 27,
      "metadata": {},
      "outputs": [
       {
        "name": "stdout",
        "output_type": "stream",
        "text": [
         "[1 2 3 4 5 6]\n"
        ]
       }
      ],
      "source": [
       "# Convert the array into a 1D array:\n",
       "arr = np.array([[1, 2, 3], [4, 5, 6]])\n",
       "\n",
       "newarr = arr.reshape(-1)\n",
       "\n",
       "print(newarr)"
      ]
     },
     {
      "cell_type": "markdown",
      "metadata": {},
      "source": [
       "**Note**: There are a lot of functions for changing the shapes of arrays in numpy flatten, ravel and also for rearranging the elements rot90, flip, fliplr, flipud etc. These fall under Intermediate to Advanced section of numpy."
      ]
     },
     {
      "cell_type": "markdown",
      "metadata": {},
      "source": [
       "### Other things you can do with Array\n",
       "\n",
       "- Numpy Array iterating\n",
       "- Numpy Array join\n",
       "- Numpy Array search\n",
       "- Numpy Array sort\n",
       "- Numpy Array filter\n",
       "- Basic arithmetic operations (+, -, *, /, **).\n",
       "- np.add(), np.subtract(), np.multiply(), np.divide(): Element-wise arithmetic operations.\n",
       "- np.add(), np.subtract(), np.multiply(), np.divide(): Element-wise arithmetic operations.\n",
       "- np.maximum(), np.minimum(): Element-wise maximum and minimum.\n",
       "\n",
       "\n"
      ]
     },
     {
      "cell_type": "markdown",
      "metadata": {},
      "source": [
       "# Seaborn"
      ]
     },
     {
      "cell_type": "markdown",
      "metadata": {},
      "source": [
       "Seaborn is a library that uses Matplotlib underneath to plot graphs. It will be used to visualize random distributions.\n",
       "\n",
       "### Why visualize data ?\n",
       "\n",
       "- **Data Exploration**: Visualization allows data scientists to explore the data and gain a deeper understanding of its characteristics. By plotting data points, distributions, and trends, they can uncover patterns, outliers, and potential issues that may not be apparent through numerical summaries alone.\n",
       "\n",
       "- Communication\n",
       "- Pattern Recognition\n",
       "- Hypothesis Testing\n",
       "- Model Evaluation\n",
       "- Storytelling\n",
       "- Data Cleaning and Preprocessing\n",
       "- Feature Selection\n",
       "- Explaining Results\n",
       "\n",
       "### Install Seaborn.\n",
       "\n"
      ]
     },
     {
      "cell_type": "code",
      "execution_count": null,
      "metadata": {},
      "outputs": [],
      "source": [
       "! pip install seaborn"
      ]
     },
     {
      "cell_type": "markdown",
      "metadata": {},
      "source": [
       "### Distplots\n",
       "Distplot stands for distribution plot, it takes as input an array and plots a curve corresponding to the distribution of points in the array.\n",
       "\n",
       "### Import Matplotlib\n",
       "Import the pyplot object of the Matplotlib module in your code using the following statement:\n",
       "\n",
       "**Note**: You can learn about the Matplotlib module\n"
      ]
     },
     {
      "cell_type": "code",
      "execution_count": 39,
      "metadata": {},
      "outputs": [
       {
        "name": "stderr",
        "output_type": "stream",
        "text": [
         "C:\\Users\\ASUS\\anaconda3\\lib\\site-packages\\seaborn\\distributions.py:2619: FutureWarning: `distplot` is a deprecated function and will be removed in a future version. Please adapt your code to use either `displot` (a figure-level function with similar flexibility) or `histplot` (an axes-level function for histograms).\n",
         "  warnings.warn(msg, FutureWarning)\n"
        ]
       },
       {
        "data": {
         "image/png": "[encoded data removed]",
         "text/plain": [
          "<Figure size 432x288 with 1 Axes>"
         ]
        },
        "metadata": {
         "needs_background": "light"
        },
        "output_type": "display_data"
       }
      ],
      "source": [
       "import matplotlib.pyplot as plt\n",
       "import seaborn as sns\n",
       "sns.distplot([0, 1, 2, 3, 4, 5])\n",
       "\n",
       "plt.show()"
      ]
     },
     {
      "cell_type": "markdown",
      "metadata": {},
      "source": [
       "### Plotting a Distplot Without the Histogram"
      ]
     },
     {
      "cell_type": "code",
      "execution_count": 40,
      "metadata": {},
      "outputs": [
       {
        "name": "stderr",
        "output_type": "stream",
        "text": [
         "C:\\Users\\ASUS\\anaconda3\\lib\\site-packages\\seaborn\\distributions.py:2619: FutureWarning: `distplot` is a deprecated function and will be removed in a future version. Please adapt your code to use either `displot` (a figure-level function with similar flexibility) or `kdeplot` (an axes-level function for kernel density plots).\n",
         "  warnings.warn(msg, FutureWarning)\n"
        ]
       },
       {
        "data": {
         "image/png": "[encoded data removed]",
         "text/plain": [
          "<Figure size 432x288 with 1 Axes>"
         ]
        },
        "metadata": {
         "needs_background": "light"
        },
        "output_type": "display_data"
       }
      ],
      "source": [
       "sns.distplot([0, 1, 2, 3, 4, 5], hist=False)\n",
       "\n",
       "plt.show()"
      ]
     },
     {
      "cell_type": "markdown",
      "metadata": {},
      "source": [
       "# Pandas"
      ]
     },
     {
      "cell_type": "markdown",
      "metadata": {},
      "source": [
       "### What is Pandas?\n",
       "\n",
       "Pandas is a Python library used for working with data sets.\n",
       "\n",
       "It has functions for analyzing, cleaning, exploring, and manipulating data.\n",
       "\n",
       "### Why Use Pandas?\n",
       "Pandas allows us to analyze big data and make conclusions based on statistical theories.\n",
       "\n",
       "Pandas can clean messy data sets, and make them readable and relevant.\n",
       "\n",
       "Relevant data is very important in data science.\n",
       "\n",
       "### Installation of Pandas"
      ]
     },
     {
      "cell_type": "code",
      "execution_count": 28,
      "metadata": {},
      "outputs": [
       {
        "name": "stdout",
        "output_type": "stream",
        "text": [
         "Requirement already satisfied: pandas in c:\\users\\asus\\anaconda3\\lib\\site-packages (1.4.2)\n",
         "Requirement already satisfied: python-dateutil>=2.8.1 in c:\\users\\asus\\anaconda3\\lib\\site-packages (from pandas) (2.8.2)\n",
         "Requirement already satisfied: pytz>=2020.1 in c:\\users\\asus\\anaconda3\\lib\\site-packages (from pandas) (2021.3)\n",
         "Requirement already satisfied: numpy>=1.18.5 in c:\\users\\asus\\anaconda3\\lib\\site-packages (from pandas) (1.21.5)\n",
         "Requirement already satisfied: six>=1.5 in c:\\users\\asus\\anaconda3\\lib\\site-packages (from python-dateutil>=2.8.1->pandas) (1.16.0)\n"
        ]
       }
      ],
      "source": [
       "! pip install pandas"
      ]
     },
     {
      "cell_type": "code",
      "execution_count": 29,
      "metadata": {},
      "outputs": [
       {
        "name": "stdout",
        "output_type": "stream",
        "text": [
         "    cars  passings\n",
         "0    BMW         3\n",
         "1  Volvo         7\n",
         "2   Ford         2\n"
        ]
       }
      ],
      "source": [
       "import pandas as pd\n",
       "\n",
       "mydataset = {\n",
       "  'cars': [\"BMW\", \"Volvo\", \"Ford\"],\n",
       "  'passings': [3, 7, 2]\n",
       "}\n",
       "\n",
       "myvar = pd.DataFrame(mydataset)\n",
       "\n",
       "print(myvar)"
      ]
     },
     {
      "cell_type": "markdown",
      "metadata": {},
      "source": [
       "## Pandas Series\n",
       "\n",
       "A Pandas Series is like a column in a table.\n",
       "\n",
       "It is a one-dimensional array holding data of any type.\n"
      ]
     },
     {
      "cell_type": "code",
      "execution_count": 30,
      "metadata": {},
      "outputs": [
       {
        "name": "stdout",
        "output_type": "stream",
        "text": [
         "0    1\n",
         "1    7\n",
         "2    2\n",
         "dtype: int64\n"
        ]
       }
      ],
      "source": [
       "# Create a simple Pandas Series from a list:\n",
       "\n",
       "\n",
       "a = [1, 7, 2]\n",
       "\n",
       "myvar = pd.Series(a)\n",
       "\n",
       "print(myvar)"
      ]
     },
     {
      "cell_type": "markdown",
      "metadata": {},
      "source": [
       "### Labels\n",
       "If nothing else is specified, the values are labeled with their index number. First value has index 0, second value has index 1 etc.\n",
       "\n",
       "This label can be used to access a specified value."
      ]
     },
     {
      "cell_type": "code",
      "execution_count": null,
      "metadata": {},
      "outputs": [],
      "source": [
       "# Return the first value of the Series\n",
       "print(myvar[0])"
      ]
     },
     {
      "cell_type": "markdown",
      "metadata": {},
      "source": [
       "### Create Labels\n",
       "With the index argument, you can name your own labels."
      ]
     },
     {
      "cell_type": "code",
      "execution_count": 31,
      "metadata": {},
      "outputs": [
       {
        "name": "stdout",
        "output_type": "stream",
        "text": [
         "x    1\n",
         "y    7\n",
         "z    2\n",
         "dtype: int64\n"
        ]
       }
      ],
      "source": [
       "a = [1, 7, 2]\n",
       "\n",
       "myvar = pd.Series(a, index = [\"x\", \"y\", \"z\"])\n",
       "\n",
       "print(myvar)\n"
      ]
     },
     {
      "cell_type": "markdown",
      "metadata": {},
      "source": [
       "When you have created labels, you can access an item by referring to the label."
      ]
     },
     {
      "cell_type": "code",
      "execution_count": 32,
      "metadata": {},
      "outputs": [
       {
        "name": "stdout",
        "output_type": "stream",
        "text": [
         "7\n"
        ]
       }
      ],
      "source": [
       "# Return the value of \"y\":\n",
       "print(myvar[\"y\"])"
      ]
     },
     {
      "cell_type": "markdown",
      "metadata": {},
      "source": [
       "### Key/Value Objects as Series\n",
       "You can also use a key/value object, like a dictionary, when creating a Series."
      ]
     },
     {
      "cell_type": "code",
      "execution_count": 33,
      "metadata": {},
      "outputs": [
       {
        "name": "stdout",
        "output_type": "stream",
        "text": [
         "day1    420\n",
         "day2    380\n",
         "day3    390\n",
         "dtype: int64\n"
        ]
       }
      ],
      "source": [
       "# Create a simple Pandas Series from a dictionary:\n",
       "import pandas as pd\n",
       "\n",
       "calories = {\"day1\": 420, \"day2\": 380, \"day3\": 390}\n",
       "\n",
       "myvar = pd.Series(calories)\n",
       "\n",
       "print(myvar)"
      ]
     },
     {
      "cell_type": "code",
      "execution_count": 34,
      "metadata": {},
      "outputs": [
       {
        "name": "stdout",
        "output_type": "stream",
        "text": [
         "day1    420\n",
         "day2    380\n",
         "dtype: int64\n"
        ]
       }
      ],
      "source": [
       "# Create a Series using only data from \"day1\" and \"day2\":\n",
       "import pandas as pd\n",
       "\n",
       "calories = {\"day1\": 420, \"day2\": 380, \"day3\": 390}\n",
       "\n",
       "myvar = pd.Series(calories, index = [\"day1\", \"day2\"])\n",
       "\n",
       "print(myvar)"
      ]
     },
     {
      "cell_type": "markdown",
      "metadata": {},
      "source": [
       "### DataFrames\n",
       "Data sets in Pandas are usually multi-dimensional tables, called DataFrames.\n",
       "\n",
       "Series is like a column, a DataFrame is the whole table.\n",
       "\n",
       "A Pandas DataFrame is a 2 dimensional data structure, like a 2 dimensional array, or a table with rows and columns.\n"
      ]
     },
     {
      "cell_type": "code",
      "execution_count": 35,
      "metadata": {},
      "outputs": [
       {
        "name": "stdout",
        "output_type": "stream",
        "text": [
         "   calories  duration\n",
         "0       420        50\n",
         "1       380        40\n",
         "2       390        45\n"
        ]
       }
      ],
      "source": [
       "# Create a DataFrame from two Series:\n",
       "data = {\n",
       "  \"calories\": [420, 380, 390],\n",
       "  \"duration\": [50, 40, 45]\n",
       "}\n",
       "\n",
       "df = pd.DataFrame(data)\n",
       "\n",
       "print(df)"
      ]
     },
     {
      "cell_type": "markdown",
      "metadata": {},
      "source": [
       "### Locate Row\n",
       "\n",
       "Pandas use the loc attribute to return one or more specified row(s)\n"
      ]
     },
     {
      "cell_type": "code",
      "execution_count": 36,
      "metadata": {},
      "outputs": [
       {
        "name": "stdout",
        "output_type": "stream",
        "text": [
         "calories    420\n",
         "duration     50\n",
         "Name: 0, dtype: int64\n"
        ]
       }
      ],
      "source": [
       "# Return row 0:\n",
       "print(df.loc[0])"
      ]
     },
     {
      "cell_type": "markdown",
      "metadata": {},
      "source": [
       "### Named Indexes\n",
       "With the index argument, you can name your own indexes."
      ]
     },
     {
      "cell_type": "code",
      "execution_count": 37,
      "metadata": {},
      "outputs": [
       {
        "name": "stdout",
        "output_type": "stream",
        "text": [
         "      calories  duration\n",
         "day1       420        50\n",
         "day2       380        40\n",
         "day3       390        45\n"
        ]
       }
      ],
      "source": [
       "# Add a list of names to give each row a name:\n",
       "data = {\n",
       "  \"calories\": [420, 380, 390],\n",
       "  \"duration\": [50, 40, 45]\n",
       "}\n",
       "\n",
       "df = pd.DataFrame(data, index = [\"day1\", \"day2\", \"day3\"])\n",
       "\n",
       "print(df) "
      ]
     },
     {
      "cell_type": "code",
      "execution_count": null,
      "metadata": {},
      "outputs": [],
      "source": [
       "# Use the named index in the loc attribute to return the specified row(s).\n",
       "print(df.loc[\"day2\"])"
      ]
     },
     {
      "cell_type": "markdown",
      "metadata": {},
      "source": [
       "### Load Files Into a DataFrame\n",
       "If your data sets are stored in a file, Pandas can load them into a DataFrame."
      ]
     },
     {
      "cell_type": "code",
      "execution_count": 38,
      "metadata": {},
      "outputs": [
       {
        "name": "stdout",
        "output_type": "stream",
        "text": [
         "     Duration  Pulse  Maxpulse  Calories\n",
         "0          60    110       130     409.1\n",
         "1          60    117       145     479.0\n",
         "2          60    103       135     340.0\n",
         "3          45    109       175     282.4\n",
         "4          45    117       148     406.0\n",
         "..        ...    ...       ...       ...\n",
         "164        60    105       140     290.8\n",
         "165        60    110       145     300.4\n",
         "166        60    115       145     310.2\n",
         "167        75    120       150     320.4\n",
         "168        75    125       150     330.4\n",
         "\n",
         "[169 rows x 4 columns]\n"
        ]
       }
      ],
      "source": [
       "# Load a comma separated file (CSV file) into a DataFrame:\n",
       "\n",
       "df = pd.read_csv('data.csv')\n",
       "\n",
       "print(df) \n"
      ]
     },
     {
      "cell_type": "markdown",
      "metadata": {},
      "source": [
       "### Pandas Read CSV"
      ]
     },
     {
      "cell_type": "code",
      "execution_count": null,
      "metadata": {},
      "outputs": [],
      "source": [
       "import pandas as pd\n",
       "\n",
       "df = pd.read_csv('data.csv')\n",
       "\n",
       "print(df.to_string()) "
      ]
     },
     {
      "cell_type": "code",
      "execution_count": null,
      "metadata": {},
      "outputs": [],
      "source": []
     }
    ],
    "metadata": {
     "kernelspec": {
      "display_name": "Python 3 (ipykernel)",
      "language": "python",
      "name": "python3"
     },
     "language_info": {
      "codemirror_mode": {
       "name": "ipython",
       "version": 3
      },
      "file_extension": ".py",
      "mimetype": "text/x-python",
      "name": "python",
      "nbconvert_exporter": "python",
      "pygments_lexer": "ipython3",
      "version": "3.9.12"
     }
    },
    "nbformat": 4,
    "nbformat_minor": 2
   }
   